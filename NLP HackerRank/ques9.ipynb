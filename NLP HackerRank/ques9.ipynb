{
 "cells": [
  {
   "cell_type": "code",
   "execution_count": null,
   "metadata": {
    "vscode": {
     "languageId": "plaintext"
    }
   },
   "outputs": [],
   "source": [
    "import re\n",
    "\n",
    "def count_articles_and_dates(text):\n",
    "    # Count occurrences of articles\n",
    "    count_a = len(re.findall(r'\\ba\\b', text, re.IGNORECASE))\n",
    "    count_an = len(re.findall(r'\\ban\\b', text, re.IGNORECASE))\n",
    "    count_the = len(re.findall(r'\\bthe\\b', text, re.IGNORECASE))\n",
    "    \n",
    "    # Define regex patterns for dates\n",
    "    date_patterns = [\n",
    "        r'\\b(\\d{1,2}(?:st|nd|rd|th)?[-/ ](?:\\d{1,2}|(?:January|February|March|April|May|June|July|August|September|October|November|December)[a-zA-Z]*[-/ ]\\d{2,4}))\\b',\n",
    "        r'\\b(?:\\d{1,2}(?:st|nd|rd|th)? (?:January|February|March|April|May|June|July|August|September|October|November|December)[a-zA-Z]*,? \\d{2,4})\\b',\n",
    "        r'\\b(?:\\d{1,2} (?:of )?(?:January|February|March|April|May|June|July|August|September|October|November|December),? \\d{2,4})\\b'\n",
    "    ]\n",
    "    \n",
    "    # Combine all patterns into one\n",
    "    combined_pattern = '|'.join(date_patterns)\n",
    "    \n",
    "    # Count occurrences of dates\n",
    "    count_dates = len(re.findall(combined_pattern, text, re.IGNORECASE))\n",
    "    \n",
    "    return count_a, count_an, count_the, count_dates\n",
    "\n",
    "def main():\n",
    "    import sys\n",
    "    input = sys.stdin.read\n",
    "    data = input().strip().split('\\n')\n",
    "    \n",
    "    T = int(data[0].strip())\n",
    "    results = []\n",
    "    \n",
    "    for i in range(1, 2 * T, 2):\n",
    "        text_fragment = data[i].strip()\n",
    "        count_a, count_an, count_the, count_dates = count_articles_and_dates(text_fragment)\n",
    "        \n",
    "        results.append(f\"{count_a}\")\n",
    "        results.append(f\"{count_an}\")\n",
    "        results.append(f\"{count_the}\")\n",
    "        results.append(f\"{count_dates}\")\n",
    "    \n",
    "    print(\"\\n\".join(results))\n",
    "\n",
    "if __name__ == \"__main__\":\n",
    "    main()"
   ]
  }
 ],
 "metadata": {
  "language_info": {
   "name": "python"
  }
 },
 "nbformat": 4,
 "nbformat_minor": 2
}
