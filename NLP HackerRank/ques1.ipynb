{
 "cells": [
  {
   "cell_type": "code",
   "execution_count": null,
   "metadata": {
    "vscode": {
     "languageId": "plaintext"
    }
   },
   "outputs": [],
   "source": [
    "import re\n",
    "from collections import Counter\n",
    "\n",
    "# Sample inline dictionary corpus (expand for better accuracy)\n",
    "corpus = \"\"\"china going to india president was winner match food america\n",
    "first of the and is are be have had who what where\n",
    "\"\"\"\n",
    "WORDS = Counter(corpus.split())\n",
    "\n",
    "def words_from_text(text):\n",
    "    return re.findall(r'\\w+', text.lower())\n",
    "\n",
    "def known(words):\n",
    "    return set(w for w in words if w in WORDS)\n",
    "\n",
    "def edits1(word):\n",
    "    letters = 'abcdefghijklmnopqrstuvwxyz'\n",
    "    splits = [(word[:i], word[i:]) for i in range(len(word) + 1)]\n",
    "    deletes = [L + R[1:] for L, R in splits if R]\n",
    "    transposes = [L + R[1] + R[0] + R[2:] for L, R in splits if len(R) > 1]\n",
    "    replaces = [L + c + R[1:] for L, R in splits if R for c in letters]\n",
    "    inserts = [L + c + R for L, R in splits for c in letters]\n",
    "    return set(deletes + transposes + replaces + inserts)\n",
    "\n",
    "def edits2(word):\n",
    "    return set(e2 for e1 in edits1(word) for e2 in edits1(e1))\n",
    "\n",
    "def candidates(word):\n",
    "    return known([word]) or known(edits1(word)) or known(edits2(word)) or [word]\n",
    "\n",
    "def correct_word(word):\n",
    "    return max(candidates(word), key=WORDS.get, default=word)\n",
    "\n",
    "def correct_query(query):\n",
    "    words = query.split()\n",
    "    corrected = [correct_word(word) for word in words]\n",
    "    return ' '.join(corrected)\n",
    "\n",
    "if __name__ == \"__main__\":\n",
    "    n = int(input().strip())\n",
    "    queries = [input().strip() for _ in range(n)]\n",
    "\n",
    "    for query in queries:\n",
    "        print(correct_query(query))"
   ]
  }
 ],
 "metadata": {
  "language_info": {
   "name": "python"
  }
 },
 "nbformat": 4,
 "nbformat_minor": 2
}
