{
 "cells": [
  {
   "cell_type": "code",
   "execution_count": null,
   "metadata": {
    "vscode": {
     "languageId": "plaintext"
    }
   },
   "outputs": [],
   "source": [
    " #Deterministic Url and HashTag Segmentation\n",
    "\n",
    " import re\n",
    "\n",
    "# Load words from \"words.txt\" into a set for quick lookup\n",
    "def load_words():\n",
    "    with open(\"words.txt\", \"r\") as f:\n",
    "        return set(word.strip().lower() for word in f)\n",
    "\n",
    "WORDS = load_words()\n",
    "\n",
    "# Check if a string is a valid word or a number\n",
    "def is_valid_token(token):\n",
    "    return token in WORDS or re.fullmatch(r'\\d+(\\.\\d+)?', token)\n",
    "\n",
    "# Recursive segmentation with memoization\n",
    "def segment_string(s, memo):\n",
    "    if s in memo:\n",
    "        return memo[s]\n",
    "    if not s:\n",
    "        return []\n",
    "\n",
    "    best_split = None\n",
    "    for i in range(1, len(s) + 1):\n",
    "        left = s[:i]\n",
    "        if is_valid_token(left):\n",
    "            right_split = segment_string(s[i:], memo)\n",
    "            if right_split is not None:\n",
    "                current_split = [left] + right_split\n",
    "                if best_split is None or len(current_split) > len(best_split):\n",
    "                    best_split = current_split\n",
    "\n",
    "    memo[s] = best_split if best_split is not None else [s]\n",
    "    return memo[s]\n",
    "\n",
    "# Process domain names and hashtags, removing extensions\n",
    "def process_input(input_str):\n",
    "    input_str = input_str.lower()\n",
    "    input_str = re.sub(r\"^(www\\.|#)|\\.(com|net|org|gov|edu|ru|co\\.uk|cn|mil|cz|us|in|io)$\", \"\", input_str)\n",
    "    segmented = segment_string(input_str, {})\n",
    "    return ' '.join(segmented)\n",
    "\n",
    "if __name__ == \"__main__\":\n",
    "    n = int(input().strip())\n",
    "    inputs = [input().strip() for _ in range(n)]\n",
    "\n",
    "    for input_str in inputs:\n",
    "        print(process_input(input_str).strip())"
   ]
  }
 ],
 "metadata": {
  "language_info": {
   "name": "python"
  }
 },
 "nbformat": 4,
 "nbformat_minor": 2
}
