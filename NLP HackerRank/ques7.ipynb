{
 "cells": [
  {
   "cell_type": "code",
   "execution_count": null,
   "metadata": {
    "vscode": {
     "languageId": "plaintext"
    }
   },
   "outputs": [],
   "source": [
    "import re\n",
    "\n",
    "def extract_acronyms(snippets):\n",
    "    acronym_dict = {}\n",
    "    \n",
    "    # Regular expression to match possible acronyms in the form of (ACRONYM)\n",
    "    # This matches full form followed by acronym in parentheses, handling extra spaces around the parentheses\n",
    "    full_form_pattern = r\"([A-Za-z ]+)\\s*\\((.*?)\\)\"  # Matches full form followed by acronym in parentheses\n",
    "    \n",
    "    for snippet in snippets:\n",
    "        matches = re.findall(full_form_pattern, snippet)\n",
    "        for full_form, acronym in matches:\n",
    "            acronym_dict[acronym.upper()] = full_form.strip()\n",
    "    \n",
    "    return acronym_dict\n",
    "\n",
    "# Read input\n",
    "N = int(input())  # Number of snippets\n",
    "snippets = [input().strip() for _ in range(N)]\n",
    "\n",
    "# Read test acronyms\n",
    "test_acronyms = []\n",
    "for _ in range(N):\n",
    "    test_acronyms.append(input().strip())\n",
    "\n",
    "# Extract acronyms and their expansions from the snippets\n",
    "acronym_dict = extract_acronyms(snippets)\n",
    "\n",
    "# For each test acronym, output the corresponding expansion\n",
    "for acronym in test_acronyms:\n",
    "    print(acronym_dict.get(acronym.upper(), \"Unknown Acronym\"))"
   ]
  }
 ],
 "metadata": {
  "language_info": {
   "name": "python"
  }
 },
 "nbformat": 4,
 "nbformat_minor": 2
}
