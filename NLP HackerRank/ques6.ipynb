{
 "cells": [
  {
   "cell_type": "code",
   "execution_count": null,
   "metadata": {
    "vscode": {
     "languageId": "plaintext"
    }
   },
   "outputs": [],
   "source": [
    "# Function to split the hashtag into words\n",
    "def split_hashtag(hashtag, dictionary):\n",
    "    # dp[i] will be True if hashtag[:i] can be split into words in the dictionary\n",
    "    n = len(hashtag)\n",
    "    dp = [False] * (n + 1)\n",
    "    dp[0] = True  # The empty string is always valid\n",
    "    \n",
    "    # Store the split points\n",
    "    split_points = [-1] * (n + 1)\n",
    "    \n",
    "    for i in range(1, n + 1):\n",
    "        for j in range(i):\n",
    "            if dp[j] and hashtag[j:i] in dictionary:\n",
    "                dp[i] = True\n",
    "                split_points[i] = j\n",
    "                break\n",
    "    \n",
    "    # Reconstruct the words using split_points\n",
    "    if dp[n]:\n",
    "        words = []\n",
    "        idx = n\n",
    "        while idx > 0:\n",
    "            words.append(hashtag[split_points[idx]:idx])\n",
    "            idx = split_points[idx]\n",
    "        words.reverse()\n",
    "        return \" \".join(words)\n",
    "    else:\n",
    "        return hashtag  # Return the original hashtag if no split is found\n",
    "\n",
    "\n",
    "# Main function to process input and output\n",
    "def process_hashtags(n, hashtags, dictionary):\n",
    "    for hashtag in hashtags:\n",
    "        print(split_hashtag(hashtag, dictionary))\n",
    "\n",
    "# Example dictionary of common words (can be expanded)\n",
    "common_words = {\"we\", \"are\", \"the\", \"people\", \"mention\", \"your\", \"faves\", \"now\", \"playing\", \"walking\", \"dead\", \"follow\", \"me\"}\n",
    "\n",
    "# Sample Input\n",
    "n = 5\n",
    "hashtags = [\"wearethepeople\", \"mentionyourfaves\", \"nowplaying\", \"thewalkingdead\", \"followme\"]\n",
    "\n",
    "# Process the input\n",
    "process_hashtags(n, hashtags, common_words)"
   ]
  }
 ],
 "metadata": {
  "language_info": {
   "name": "python"
  }
 },
 "nbformat": 4,
 "nbformat_minor": 2
}
