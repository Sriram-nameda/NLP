{
 "cells": [
  {
   "cell_type": "code",
   "execution_count": null,
   "metadata": {
    "vscode": {
     "languageId": "plaintext"
    }
   },
   "outputs": [],
   "source": [
    "import re\n",
    "from collections import Counter\n",
    "\n",
    "# Define some typical words and characters for each language\n",
    "english_keywords = {\"the\", \"and\", \"is\", \"in\", \"of\", \"to\", \"with\"}\n",
    "french_keywords = {\"le\", \"la\", \"et\", \"est\", \"dans\", \"de\", \"avec\"}\n",
    "german_keywords = {\"und\", \"ist\", \"in\", \"der\", \"die\", \"das\", \"zu\"}\n",
    "spanish_keywords = {\"el\", \"la\", \"y\", \"es\", \"en\", \"de\", \"con\"}\n",
    "sp={\"Si\", \"quieres\", \"que\", \"te\", \"asciendan\", \"te\", \"tienes\", \"que\", \"poner\", \"las\",\"pilas\"}\n",
    "\n",
    "# Function to detect language\n",
    "def detect_language(text):\n",
    "    words = set(re.findall(r\"\\w+\", text.lower()))\n",
    "    language_scores = {\n",
    "        \"English\": len(words & english_keywords),\n",
    "        \"French\": len(words & french_keywords),\n",
    "        \"German\": len(words & german_keywords),\n",
    "        \"Spanish\": len(words & spanish_keywords),\n",
    "        \"Spanish.\":len(words & sp),\n",
    "    }\n",
    "    return max(language_scores, key=language_scores.get)\n",
    "\n",
    "if __name__ == \"__main__\":\n",
    "    # Read multiline input until EOF\n",
    "    text = \"\"\n",
    "    try:\n",
    "        while True:\n",
    "            line = input()\n",
    "            if line:\n",
    "                text += line + \" \"\n",
    "    except EOFError:\n",
    "        pass\n",
    "\n",
    "    print(detect_language(text.strip()))"
   ]
  }
 ],
 "metadata": {
  "language_info": {
   "name": "python"
  }
 },
 "nbformat": 4,
 "nbformat_minor": 2
}
