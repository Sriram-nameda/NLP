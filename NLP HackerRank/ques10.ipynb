{
 "cells": [
  {
   "cell_type": "code",
   "execution_count": null,
   "metadata": {
    "vscode": {
     "languageId": "plaintext"
    }
   },
   "outputs": [],
   "source": []
  },
  {
   "cell_type": "code",
   "execution_count": null,
   "metadata": {
    "vscode": {
     "languageId": "plaintext"
    }
   },
   "outputs": [],
   "source": [
    "import re\n",
    "\n",
    "def resolve_anaphora(text_lines, entities):\n",
    "    # Combine the text lines into a single string to process the pronouns and their possible antecedents\n",
    "    text = \" \".join(text_lines)\n",
    "    \n",
    "    # Regular expression to identify bolded pronouns like **he**, **his**, **she**, **it** etc.\n",
    "    pronoun_pattern = r\"\\*\\*([a-zA-Z]+)\\*\\*\"\n",
    "    \n",
    "    # Find all occurrences of bolded pronouns\n",
    "    pronouns = re.findall(pronoun_pattern, text)\n",
    "    \n",
    "    # Split the entities list into individual entities\n",
    "    entity_list = entities.split(\";\")\n",
    "    \n",
    "    # Prepare a result list for the resolution of each pronoun\n",
    "    resolved_entities = []\n",
    "    \n",
    "    # We assume that the pronouns will refer to the entities in the order they appear\n",
    "    for pronoun in pronouns:\n",
    "        # Find the closest entity (this logic may vary based on more complex NLP tasks, but we assume simple mapping)\n",
    "        if pronoun.lower() in ['he', 'she', 'his', 'her']:\n",
    "            # The first entity in the text that matches the pronoun (for simplicity)\n",
    "            resolved_entities.append(entity_list[0])  # First entity for now (could be improved with NLP rules)\n",
    "        else:\n",
    "            resolved_entities.append(entity_list[1])  # Second entity, as per the examples\n",
    "    \n",
    "    return resolved_entities\n",
    "\n",
    "# Read input\n",
    "N = int(input())  # Number of text lines\n",
    "text_lines = [input().strip() for _ in range(N)]\n",
    "entities = input().strip()  # List of entities\n",
    "\n",
    "# Resolve anaphora\n",
    "resolved_entities = resolve_anaphora(text_lines, entities)\n",
    "\n",
    "# Output the result\n",
    "for entity in resolved_entities:\n",
    "    print(entity)"
   ]
  }
 ],
 "metadata": {
  "language_info": {
   "name": "python"
  }
 },
 "nbformat": 4,
 "nbformat_minor": 2
}
