{
 "cells": [
  {
   "cell_type": "code",
   "execution_count": null,
   "metadata": {
    "vscode": {
     "languageId": "plaintext"
    }
   },
   "outputs": [],
   "source": [
    "import re\n",
    "import json\n",
    "\n",
    "# Load keywords related to animal and computer mouse context\n",
    "animal_keywords = {\"tail\", \"genome\", \"fur\", \"rodent\", \"postnatal\", \"development\", \"species\"}\n",
    "computer_mouse_keywords = {\"input\", \"device\", \"click\", \"scroll\", \"cursor\", \"usb\", \"keyboard\", \"button\"}\n",
    "\n",
    "# Determine context of the word 'mouse'\n",
    "def classify_sentence(sentence):\n",
    "    words = set(re.findall(r\"\\w+\", sentence.lower()))\n",
    "    if words & computer_mouse_keywords:\n",
    "        return \"computer-mouse\"\n",
    "    elif words & animal_keywords:\n",
    "        return \"animal\"\n",
    "    else:\n",
    "        # Default to animal if no clear match (could be improved with better models)\n",
    "        return \"animal\"\n",
    "\n",
    "if __name__ == \"__main__\":\n",
    "    n = int(input().strip())\n",
    "    sentences = [input().strip() for _ in range(n)]\n",
    "\n",
    "    for sentence in sentences:\n",
    "        print(classify_sentence(sentence))"
   ]
  }
 ],
 "metadata": {
  "language_info": {
   "name": "python"
  }
 },
 "nbformat": 4,
 "nbformat_minor": 2
}
